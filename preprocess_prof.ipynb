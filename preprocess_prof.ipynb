{
 "cells": [
  {
   "cell_type": "markdown",
   "metadata": {},
   "source": [
    "# Preprocess the Professor names"
   ]
  },
  {
   "cell_type": "code",
   "execution_count": 101,
   "metadata": {},
   "outputs": [],
   "source": [
    "from bs4 import BeautifulSoup\n",
    "import json"
   ]
  },
  {
   "cell_type": "code",
   "execution_count": 102,
   "metadata": {},
   "outputs": [],
   "source": [
    "def read_json(semester):\n",
    "    with open(semester+'.json', \"r\") as json_file:\n",
    "        return json.load(json_file)"
   ]
  },
  {
   "cell_type": "code",
   "execution_count": 103,
   "metadata": {},
   "outputs": [],
   "source": [
    "spring_courses = read_json('spring')\n",
    "fall_courses = read_json('fall')\n",
    "\n",
    "with open('all_courses.json', \"r\") as json_file:\n",
    "    all_courses = json.load(json_file)"
   ]
  },
  {
   "cell_type": "markdown",
   "metadata": {},
   "source": [
    "##### Scrapping the prof list HTML"
   ]
  },
  {
   "cell_type": "code",
   "execution_count": 104,
   "metadata": {},
   "outputs": [],
   "source": [
    "def get_profs(file):\n",
    "    with open(file, 'r') as file:\n",
    "        html = file.read()\n",
    "\n",
    "    soup = BeautifulSoup(html, 'html.parser')\n",
    "    profs = [a.find('span', itemprop='name').text for a in soup.find_all('a', itemprop='url')]\n",
    "    return profs\n",
    "\n",
    "all_profs = get_profs('prof_list.html')\n",
    "with open('addition.txt', 'r') as f:\n",
    "    names = f.read().splitlines() \n",
    "all_profs += names\n",
    "all_profs = [{'full': prof.strip(), 'last':prof.strip().split(' ')[-1]} for prof in all_profs]"
   ]
  },
  {
   "cell_type": "markdown",
   "metadata": {},
   "source": [
    "##### Adding the full names of professors to the data"
   ]
  },
  {
   "cell_type": "code",
   "execution_count": 105,
   "metadata": {},
   "outputs": [],
   "source": [
    "def preprocess_profs(courses):\n",
    "    for course in courses:\n",
    "        for m in course[\"meetings\"]:\n",
    "            instructors = m[\"instructor\"].split(';')\n",
    "            instructors = [ins.strip() for ins in instructors]\n",
    "            full_name_profs = [get_full_name(ins) if ins else '' for ins in instructors]\n",
    "            \n",
    "            if '' in full_name_profs:\n",
    "                if len(full_name_profs) > 1:\n",
    "                    full_name_profs.remove('')\n",
    "                else:\n",
    "                    full_name_profs = list(map(lambda x: x.replace('', 'N/A'), full_name_profs))\n",
    "            full_name_profs = \"; \".join(full_name_profs)\n",
    "            m[\"instructor_full_name\"] = full_name_profs\n",
    "    return courses  \n",
    "\n",
    "def get_full_name(ins):\n",
    "    ins = ins.split(' ')\n",
    "    last = ins[0]\n",
    "    matched = [p for p in all_profs if p[\"last\"].lower()==last.lower()]\n",
    "\n",
    "    if len(matched) > 1:\n",
    "        matched = [mat for mat in matched if mat[\"full\"][0].lower()==ins[-1].lower()]\n",
    "    elif len(matched) < 1:\n",
    "        for prof in all_profs:\n",
    "            if prof[\"last\"] == ins[1] or prof[\"last\"] == ins[-2]:\n",
    "                matched.append(prof)\n",
    "\n",
    "    assert(len(matched) == 1)\n",
    "    \n",
    "    return matched[0][\"full\"]"
   ]
  },
  {
   "cell_type": "code",
   "execution_count": 106,
   "metadata": {},
   "outputs": [],
   "source": [
    "spring_courses = preprocess_profs(spring_courses)\n",
    "fall_courses = preprocess_profs(fall_courses)\n",
    "all_courses = preprocess_profs(all_courses)"
   ]
  },
  {
   "cell_type": "markdown",
   "metadata": {},
   "source": [
    "##### Writing the updated info"
   ]
  },
  {
   "cell_type": "code",
   "execution_count": 107,
   "metadata": {},
   "outputs": [],
   "source": [
    "with open('all_courses_latest.json', \"w\") as json_file:\n",
    "    json.dump(all_courses, json_file)\n",
    "\n",
    "with open('spring.json', \"w\") as json_file:\n",
    "    json.dump(spring_courses, json_file)\n",
    "\n",
    "with open('fall.json', \"w\") as json_file:\n",
    "    json.dump(fall_courses, json_file)"
   ]
  },
  {
   "cell_type": "code",
   "execution_count": 108,
   "metadata": {},
   "outputs": [
    {
     "data": {
      "text/plain": [
       "{'dept': 'ILS-Z',\n",
       " 'url': 'https://luddy.indiana.edu/academics/courses/class/iub-spring-2023-ils-z640',\n",
       " 'course_id': '640',\n",
       " 'course_title': 'SEMINAR IN INTELLECTUAL FREEDOM',\n",
       " 'filename': 'iub-spring-2023-ils-z640.html',\n",
       " 'meetings': [{'component': 'LEC',\n",
       "   'credits': '3',\n",
       "   'status': 'Open',\n",
       "   'time': '12:40 p.m.–3:10 p.m.',\n",
       "   'day': 'R',\n",
       "   'facility': 'I 232',\n",
       "   'instructor': 'Rosenbaum H',\n",
       "   'course_type': 'Regular Academic Session',\n",
       "   'mode': 'In Person',\n",
       "   'total_seats': '15',\n",
       "   'available_seats': '7',\n",
       "   'waitlisted_seats': '0',\n",
       "   'notes': ['Above class meets with ILS-Z 764'],\n",
       "   'instructor_full_name': 'Howard Rosenbaum'}],\n",
       " 'description': '',\n",
       " 'textfile': 'ILS-Z640.txt',\n",
       " 'semester': 'spring',\n",
       " 'pk': 'ILS-Z640spring',\n",
       " 'full_id': 'ILS-Z640'}"
      ]
     },
     "execution_count": 108,
     "metadata": {},
     "output_type": "execute_result"
    }
   ],
   "source": [
    "spring_courses[0]"
   ]
  },
  {
   "cell_type": "code",
   "execution_count": null,
   "metadata": {},
   "outputs": [],
   "source": []
  }
 ],
 "metadata": {
  "kernelspec": {
   "display_name": "base",
   "language": "python",
   "name": "python3"
  },
  "language_info": {
   "codemirror_mode": {
    "name": "ipython",
    "version": 3
   },
   "file_extension": ".py",
   "mimetype": "text/x-python",
   "name": "python",
   "nbconvert_exporter": "python",
   "pygments_lexer": "ipython3",
   "version": "3.10.13"
  },
  "orig_nbformat": 4
 },
 "nbformat": 4,
 "nbformat_minor": 2
}
