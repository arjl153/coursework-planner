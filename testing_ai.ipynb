{
 "cells": [
  {
   "cell_type": "code",
   "execution_count": 48,
   "metadata": {},
   "outputs": [],
   "source": [
    "# !pip3 install pinecone-client --upgrade\n",
    "# !pip3 install openai\n",
    "# !pip3 install tiktoken\n",
    "# !pip3 install protobuf\n",
    "# !pip3 install --upgrade langchain\n",
    "# !pip3 install \"langchain[docarray]\"\n",
    "# !pip3 install utils\n",
    "# !pip3 install -U setuptools\n",
    "# !pip3 install python-dotenv\n",
    "# !pip3 install pinecone-client google-api-python-client grpcio\n",
    "# !pip3 install grpcio-tools\n",
    "# !pip3 uninstall protobuf\n"
   ]
  },
  {
   "cell_type": "code",
   "execution_count": 49,
   "metadata": {},
   "outputs": [],
   "source": [
    "import os\n",
    "import json\n",
    "from openai import OpenAI\n",
    "import tiktoken\n",
    "from IPython.display import display, Markdown\n",
    "from dotenv import load_dotenv\n",
    "\n",
    "from pinecone import Pinecone, ServerlessSpec"
   ]
  },
  {
   "cell_type": "markdown",
   "metadata": {},
   "source": [
    "##### Setting up OpenAI"
   ]
  },
  {
   "cell_type": "code",
   "execution_count": 50,
   "metadata": {},
   "outputs": [],
   "source": [
    "load_dotenv()\n",
    "# OpenAI API key\n",
    "openai_api = os.getenv('OPENAI_API_KEY')\n",
    "openai_org = os.getenv('OPENAI_API_ORG')\n",
    "\n",
    "client = OpenAI(\n",
    "    api_key=openai_api,\n",
    "    organization=openai_org\n",
    ")"
   ]
  },
  {
   "cell_type": "markdown",
   "metadata": {},
   "source": [
    "##### Setting up Pineconce"
   ]
  },
  {
   "cell_type": "code",
   "execution_count": 51,
   "metadata": {},
   "outputs": [],
   "source": [
    "pinecone_api = os.getenv('PINECONE_API_KEY')\n",
    "pc = Pinecone(api_key=pinecone_api)"
   ]
  },
  {
   "cell_type": "markdown",
   "metadata": {},
   "source": [
    "##### Indexing Pineconce"
   ]
  },
  {
   "cell_type": "code",
   "execution_count": 52,
   "metadata": {},
   "outputs": [],
   "source": [
    "index_name = \"course-index\"\n",
    "namespace = 'all-courses-namespace'\n",
    "\n",
    "if index_name not in pc.list_indexes().names():\n",
    "    pc.create_index(\n",
    "        name=index_name,\n",
    "        dimension=1536, \n",
    "        metric=\"cosine\", \n",
    "        spec=ServerlessSpec(\n",
    "            cloud=\"aws\", \n",
    "            region=\"us-east-1\"\n",
    "        ) \n",
    "    )\n",
    "\n",
    "index = pc.Index(index_name)"
   ]
  },
  {
   "cell_type": "code",
   "execution_count": 53,
   "metadata": {},
   "outputs": [],
   "source": [
    "with open('all_courses_latest.json', \"r\") as json_file:\n",
    "    all_courses = json.load(json_file)\n",
    "with open('spring.json', \"r\") as json_file:\n",
    "    spring_courses = json.load(json_file)\n",
    "with open('fall.json', \"r\") as json_file:\n",
    "    fall_courses = json.load(json_file)\n",
    "with open('course_info.json', \"r\") as json_file:\n",
    "    course_info = json.load(json_file)"
   ]
  },
  {
   "cell_type": "code",
   "execution_count": 54,
   "metadata": {},
   "outputs": [],
   "source": [
    "model_name = \"text-embedding-3-small\""
   ]
  },
  {
   "cell_type": "markdown",
   "metadata": {},
   "source": [
    "##### Functions for getting Embeddings and Upsert"
   ]
  },
  {
   "cell_type": "code",
   "execution_count": 55,
   "metadata": {},
   "outputs": [],
   "source": [
    "def get_embedding(text):\n",
    "    return client.embeddings.create(input=text, model=model_name).data[0].embedding\n",
    "\n",
    "def num_tokens_from_string(string: str, encoding_name: str):\n",
    "    \"\"\"Returns the number of tokens in a text string.\"\"\"\n",
    "    encoding = tiktoken.get_encoding(encoding_name)\n",
    "    num_tokens = len(encoding.encode(string))\n",
    "    return num_tokens\n",
    "\n",
    "def upsert_vectors(vec, namespace):\n",
    "    batch_size = 100\n",
    "    n = len(vec)\n",
    "    n_batches = (n + batch_size - 1) // batch_size\n",
    "\n",
    "    for i in range(n_batches):\n",
    "        start_idx = i * batch_size\n",
    "        end_idx = min((i + 1) * batch_size, n)\n",
    "        batch_vectors = vec[start_idx:end_idx]\n",
    "\n",
    "        index.upsert(batch_vectors, namespace=namespace)\n",
    "        print(f\"Upserted batch {i + 1}/{n_batches}\")\n",
    "    print(\"Successfully upserted!!\")\n",
    "\n",
    "def documents_already_indexed(index, namespace):\n",
    "    stats = index.describe_index_stats()\n",
    "    return stats['namespaces'].get(namespace, {}).get('vector_count', 0) > 0"
   ]
  },
  {
   "cell_type": "markdown",
   "metadata": {},
   "source": [
    "##### Upserting into Pinecone"
   ]
  },
  {
   "cell_type": "markdown",
   "metadata": {},
   "source": [
    "###### NOTE: skip this if vectors are already upserted"
   ]
  },
  {
   "cell_type": "code",
   "execution_count": 56,
   "metadata": {},
   "outputs": [
    {
     "name": "stdout",
     "output_type": "stream",
     "text": [
      "Documents are already indexed.\n"
     ]
    }
   ],
   "source": [
    "if not documents_already_indexed(index, namespace):\n",
    "    vectors = []\n",
    "\n",
    "    for i, course in enumerate(all_courses):\n",
    "        semester = course[\"semester\"]\n",
    "        filename = course[\"textfile\"]\n",
    "        text_data = course_info[course[\"pk\"]][\"text\"]\n",
    "        embedding = get_embedding(text_data)\n",
    "        vectors.append((str(i), embedding, {\"pk\": course[\"pk\"]}))\n",
    "\n",
    "    upsert_vectors(vectors, namespace)\n",
    "    print(\"Documents have been upserted successfully.\")\n",
    "else:\n",
    "    print(\"Documents are already indexed.\")\n"
   ]
  },
  {
   "cell_type": "markdown",
   "metadata": {},
   "source": [
    "#### Querying with Manual retrieval "
   ]
  },
  {
   "cell_type": "markdown",
   "metadata": {},
   "source": [
    "##### Querying Pinecone"
   ]
  },
  {
   "cell_type": "code",
   "execution_count": 60,
   "metadata": {},
   "outputs": [],
   "source": [
    "query = \"What courses are taught by Prof Zoran Tiganj?\"\n",
    "\n",
    "try:\n",
    "    query_vector = get_embedding(query)\n",
    "except Exception as e:\n",
    "    print(\"Error calling OpenAI Embedding API: \", e)\n",
    "\n",
    "search_response = index.query(\n",
    "    top_k=20,\n",
    "    vector=query_vector,\n",
    "    include_metadata=True,\n",
    "    namespace='all-courses-namespace')"
   ]
  },
  {
   "cell_type": "markdown",
   "metadata": {},
   "source": [
    "##### Instructions for GPT"
   ]
  },
  {
   "cell_type": "code",
   "execution_count": 61,
   "metadata": {},
   "outputs": [],
   "source": [
    "pks = [match['metadata']['pk'] for match in search_response['matches']]\n",
    "texts = [course_info[pk]['text'] for pk in pks]\n",
    "\n",
    "augmented_query = \"\\n\\n---\\n\\nContext: \".join(texts)+\"\\n\\n-----\\n\\n\"+query\n",
    "\n",
    "primer = f\"\"\"You are Q&A bot. A highly intelligent system that answers\n",
    "user questions based on the information provided by the user above\n",
    "each question. If the information can not be found in the information\n",
    "provided by the user you truthfully say \"I don't know\".\n",
    "\"\"\""
   ]
  },
  {
   "cell_type": "markdown",
   "metadata": {},
   "source": [
    "##### Querying GPT"
   ]
  },
  {
   "cell_type": "code",
   "execution_count": 62,
   "metadata": {},
   "outputs": [
    {
     "data": {
      "text/markdown": [
       "\n",
       "The following courses are taught by Prof. Zoran Tiganj:\n",
       "\n",
       "1. **Course ID: CSCI-P556, Title: APPLIED MACHINE LEARNING**\n",
       "   - Regular academic session, 3 course credits\n",
       "   - Spring semester\n",
       "   - In person LEC class\n",
       "   - Meets on Tuesday, Thursday from 4:45 p.m.–6:00 p.m. at LU 1001\n",
       "   - Notes: Total number of seats available for this component is 100, with 8 seats currently available and 0 seats on the waitlist."
      ],
      "text/plain": [
       "<IPython.core.display.Markdown object>"
      ]
     },
     "metadata": {},
     "output_type": "display_data"
    }
   ],
   "source": [
    "try:   \n",
    "    res = client.chat.completions.create(\n",
    "        model=\"gpt-4o\",\n",
    "        messages=[\n",
    "            {\"role\": \"system\", \"content\": primer},\n",
    "            {\"role\": \"user\", \"content\": augmented_query}\n",
    "        ]\n",
    ")   \n",
    "    display(Markdown(f\"\\n{res.choices[0].message.content}\"))\n",
    "except Exception as e:\n",
    "    print(f\"Error with OpenAI Completion: {e}\")"
   ]
  },
  {
   "cell_type": "code",
   "execution_count": 63,
   "metadata": {},
   "outputs": [],
   "source": [
    "# %pip3 install --upgrade --quiet  \\\n",
    "#     langchain-pinecone \\\n",
    "#     langchain-openai \\\n",
    "#     langchain \\\n",
    "#     langchain-community \\\n",
    "#     pinecone-notebooks"
   ]
  },
  {
   "cell_type": "markdown",
   "metadata": {},
   "source": [
    "#### Querying with Automatic doc retrieval"
   ]
  },
  {
   "cell_type": "code",
   "execution_count": 64,
   "metadata": {},
   "outputs": [],
   "source": [
    "with open('course_text.json', \"r\") as json_file:\n",
    "    course_texts = json.load(json_file)"
   ]
  },
  {
   "cell_type": "markdown",
   "metadata": {},
   "source": [
    "##### Converting to Langchain Document supported by Pinecone"
   ]
  },
  {
   "cell_type": "code",
   "execution_count": 65,
   "metadata": {},
   "outputs": [
    {
     "name": "stdout",
     "output_type": "stream",
     "text": [
      "[Document(page_content='The course with the course ID ILS-Z640, titled \"SEMINAR IN INTELLECTUAL FREEDOM\", is offered by the Department of Computer Science and Informatics at Indiana University. The course is part of the regular academic session with 3 course credits. This course is taught by the professors Rosenbaum H.\\nThe course has the following classes offered in spring semester:\\n1. The LEC class is a in person type class. This class meets on Thursday from 12:40 p.m.–3:10 p.m. at I 232. The class is taught by the professors Howard Rosenbaum (shorthand name: Rosenbaum H)and is currently open. The total number of seats available for this component is 15, with 7 seats currently available and 0 seats on the waitlist.\\nNotes: Above class meets with ILS-Z 764.\\n\\n'), Document(page_content='The course with the course ID INFO-I301, titled \"PRESENTATIONS FOR IT PROFESSIONALS\", is offered by the Department of Computer Science and Informatics at Indiana University. The course is part of the thirteen week with 3 course credits. This course is taught by the professors Thacker U.\\nThe course description is as follows: \\nStudents present several different types of presentations and engage in developing these \"21st Century skills\" for their future.  The course utilizes an open studio format that allows students to explore public speaking to better prepare for future educational and professional presentations.\\n\\nThe course has the following classes offered in spring semester:\\n1. The LEC class is a in person type class. This class meets on Tuesday, Thursday from 4:45 p.m.–6:05 p.m. at PY 109. The class is taught by the professors Una Thacker (shorthand name: Thacker U)and is currently closed. The total number of seats available for this component is 24, with 0 seats currently available and 0 seats on the waitlist.\\nNotes: I 301: P - INFOBS major, Instructor permission required if not an INFOBS student, Above class meets for the thirteen week session.\\n\\n')]\n"
     ]
    }
   ],
   "source": [
    "from langchain.docstore.document import Document\n",
    "course_docs = [\n",
    "    Document(page_content=item[\"page_content\"])\n",
    "    for item in course_texts\n",
    "]\n",
    "# if in the future we need to add metadata \\\n",
    "# then use this arg in Document call metadata=item[\"metadata\"])\n",
    "\n",
    "print(course_docs[:2])"
   ]
  },
  {
   "cell_type": "code",
   "execution_count": 66,
   "metadata": {},
   "outputs": [
    {
     "name": "stdout",
     "output_type": "stream",
     "text": [
      "Documents are already indexed.\n"
     ]
    }
   ],
   "source": [
    "from langchain_community.document_loaders import TextLoader\n",
    "from langchain_openai import OpenAIEmbeddings\n",
    "from langchain_text_splitters import CharacterTextSplitter\n",
    "from langchain_pinecone import PineconeVectorStore\n",
    "from pinecone import Pinecone, ServerlessSpec\n",
    "\n",
    "namespace = \"all_course_texts\"\n",
    "embeddings = OpenAIEmbeddings()\n",
    "\n",
    "pc = Pinecone(api_key=pinecone_api)\n",
    "\n",
    "index_name = \"langchain-index\"\n",
    "index = pc.Index(index_name)\n",
    "existing_indexes = [index_info[\"name\"] for index_info in pc.list_indexes()]\n",
    "\n",
    "if index_name not in existing_indexes:\n",
    "    pc.create_index(\n",
    "        name=index_name,\n",
    "        dimension=1536,\n",
    "        metric=\"cosine\",\n",
    "        spec=ServerlessSpec(cloud=\"aws\", region=\"us-east-1\"),\n",
    "    )\n",
    "\n",
    "\n",
    "if not documents_already_indexed(index, namespace):\n",
    "    docsearch = PineconeVectorStore.from_documents(documents=course_docs,\n",
    "                                                index_name=index_name,\n",
    "                                                embedding=embeddings,\n",
    "                                                namespace=namespace,\n",
    "                                                )\n",
    "    print(\"Documents have been upserted successfully.\")\n",
    "\n",
    "else:\n",
    "    docsearch = PineconeVectorStore(\n",
    "        index_name=index_name,\n",
    "        embedding=embeddings,\n",
    "        namespace=namespace\n",
    "    )\n",
    "    print(\"Documents are already indexed.\")\n"
   ]
  },
  {
   "cell_type": "code",
   "execution_count": 67,
   "metadata": {},
   "outputs": [
    {
     "data": {
      "text/plain": [
       "{'dimension': 1536,\n",
       " 'index_fullness': 0.0,\n",
       " 'namespaces': {'all_course_texts': {'vector_count': 560}},\n",
       " 'total_vector_count': 560}"
      ]
     },
     "execution_count": 67,
     "metadata": {},
     "output_type": "execute_result"
    }
   ],
   "source": [
    "index.describe_index_stats()"
   ]
  },
  {
   "cell_type": "markdown",
   "metadata": {},
   "source": [
    "##### Querying GPT"
   ]
  },
  {
   "cell_type": "code",
   "execution_count": 70,
   "metadata": {},
   "outputs": [
    {
     "data": {
      "text/markdown": [
       "Professor Damir Cavar teaches the following courses at Indiana University:\n",
       "\n",
       "1. **CSCI-B659: TOPICS ARTIFICIAL INTELLIGENCE**\n",
       "   - **Class 1**: Meets on Monday, Wednesday from 4:45 p.m.–6:00 p.m. at BH 343. This class is currently closed with 0 seats available and 16 seats on the waitlist.\n",
       "   - **Class 3**: Meets on Monday, Wednesday from 1:15 p.m.–2:30 p.m. at IF 0119. This class is currently closed with 0 seats available and 2 seats on the waitlist."
      ],
      "text/plain": [
       "<IPython.core.display.Markdown object>"
      ]
     },
     "metadata": {},
     "output_type": "display_data"
    },
    {
     "data": {
      "text/plain": [
       "'As of my last update in October 2023, Professor Damir Cavar is known for his work in the fields of linguistics, computational linguistics, and natural language processing. However, the specific courses he teaches can vary by semester and institution. To get the most accurate and up-to-date information on the courses he is currently teaching, you should check the official website of the institution where he is employed or contact the relevant department directly.\\n\\nIf you provide the name of the institution where Professor Cavar is currently teaching, I might be able to give you more specific guidance on where to look for his course listings.'"
      ]
     },
     "metadata": {},
     "output_type": "display_data"
    }
   ],
   "source": [
    "from langchain_openai import ChatOpenAI\n",
    "from langchain.chains import RetrievalQA  \n",
    "\n",
    "llm = ChatOpenAI(\n",
    "    openai_api_key=openai_api,\n",
    "    model_name=\"gpt-4o\",\n",
    "    temperature=0.0\n",
    ")\n",
    "\n",
    "qa = RetrievalQA.from_chain_type(\n",
    "    llm=llm,\n",
    "    chain_type=\"stuff\",\n",
    "    retriever=docsearch.as_retriever()\n",
    ")\n",
    "\n",
    "query1 = \"What are the courses taught by Professor Damir Cavar\"\n",
    "\n",
    "query1_with_knowledge = qa.invoke(query1)\n",
    "query1_without_knowledge = llm.invoke(query1)\n",
    "\n",
    "display(Markdown(query1_with_knowledge['result']))\n",
    "display(query1_without_knowledge.content)"
   ]
  },
  {
   "cell_type": "code",
   "execution_count": null,
   "metadata": {},
   "outputs": [],
   "source": []
  },
  {
   "cell_type": "code",
   "execution_count": null,
   "metadata": {},
   "outputs": [],
   "source": []
  },
  {
   "cell_type": "code",
   "execution_count": null,
   "metadata": {},
   "outputs": [],
   "source": []
  },
  {
   "cell_type": "code",
   "execution_count": null,
   "metadata": {},
   "outputs": [],
   "source": []
  },
  {
   "cell_type": "code",
   "execution_count": null,
   "metadata": {},
   "outputs": [],
   "source": []
  },
  {
   "cell_type": "code",
   "execution_count": null,
   "metadata": {},
   "outputs": [],
   "source": []
  },
  {
   "cell_type": "code",
   "execution_count": null,
   "metadata": {},
   "outputs": [],
   "source": []
  },
  {
   "cell_type": "code",
   "execution_count": null,
   "metadata": {},
   "outputs": [],
   "source": []
  },
  {
   "cell_type": "code",
   "execution_count": null,
   "metadata": {},
   "outputs": [],
   "source": []
  }
 ],
 "metadata": {
  "kernelspec": {
   "display_name": "base",
   "language": "python",
   "name": "python3"
  },
  "language_info": {
   "codemirror_mode": {
    "name": "ipython",
    "version": 3
   },
   "file_extension": ".py",
   "mimetype": "text/x-python",
   "name": "python",
   "nbconvert_exporter": "python",
   "pygments_lexer": "ipython3",
   "version": "3.10.13"
  },
  "orig_nbformat": 4
 },
 "nbformat": 4,
 "nbformat_minor": 2
}
